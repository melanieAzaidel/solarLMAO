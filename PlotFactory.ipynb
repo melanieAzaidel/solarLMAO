{
 "cells": [
  {
   "cell_type": "markdown",
   "id": "7634853a-a50b-47b9-a04a-c42b1787acf1",
   "metadata": {},
   "source": [
    "# Reproducing figures in (arXiv link)"
   ]
  },
  {
   "cell_type": "markdown",
   "id": "65a64ff8-d9c5-427d-ae11-b0dd73fdc096",
   "metadata": {},
   "source": [
    "Melanie A. Zaidel"
   ]
  },
  {
   "cell_type": "code",
   "execution_count": 2,
   "id": "22d61b34-a33a-48ff-b232-1c46098125c6",
   "metadata": {},
   "outputs": [],
   "source": [
    "import solarLMAO as sLMAO\n",
    "import numpy as np\n",
    "import matplotlib.pyplot as plt\n",
    "import matplotlib\n",
    "from astropy import units as u"
   ]
  },
  {
   "cell_type": "markdown",
   "id": "f71857c5-7ac5-4708-8433-d91a06554dda",
   "metadata": {},
   "source": [
    "Set some plotting parameters."
   ]
  },
  {
   "cell_type": "code",
   "execution_count": 3,
   "id": "bb616160-958b-43f2-afca-38fe6d22155e",
   "metadata": {},
   "outputs": [],
   "source": [
    "cm = plt.get_cmap('jet')\n",
    "plt.style.use('style_prof2.mplstyle')\n",
    "props = dict(boxstyle='round', facecolor='wheat', alpha=0.5)\n",
    "\n",
    "default_size = 18\n",
    "plt.rcParams.update({\n",
    "    'font.size': default_size,  # This sets the default font size for everything\n",
    "    'font.weight': 'bold',\n",
    "    'axes.titlesize': default_size,\n",
    "    'axes.labelsize': default_size,\n",
    "    'xtick.labelsize': default_size,\n",
    "    'ytick.labelsize': default_size,\n",
    "    'legend.fontsize': default_size,\n",
    "    'figure.titlesize': default_size,\n",
    "    'axes.labelweight': 'bold',\n",
    "    'text.usetex': True,\n",
    "})\n",
    "\n",
    "figsize = 5\n",
    "\n",
    "plt.rcParams.update({\n",
    "    'axes.linewidth': 1.5,       # Set frame (spine) thickness\n",
    "    'xtick.major.width': 1.5,    # Set x-axis major tick thickness\n",
    "    'ytick.major.width': 1.5,    # Set y-axis major tick thickness\n",
    "    'xtick.minor.width': 1,  # Set x-axis minor tick thickness\n",
    "    'ytick.minor.width': 1,  # Set y-axis minor tick thickness\n",
    "    'xtick.major.size': 8,     # Set x-axis major tick length\n",
    "    'ytick.major.size': 8,     # Set y-axis major tick length\n",
    "    'xtick.minor.size': 3,     # Set x-axis minor tick length\n",
    "    'ytick.minor.size': 3,     # Set y-axis minor tick length\n",
    "})\n",
    "\n",
    "\n",
    "matplotlib.rcParams['figure.figsize'] = [figsize,figsize]#[10, 10] # for square canvas\n",
    "matplotlib.rcParams['figure.subplot.left'] = 0\n",
    "matplotlib.rcParams['figure.subplot.bottom'] = 0\n",
    "matplotlib.rcParams['figure.subplot.right'] = 1\n",
    "matplotlib.rcParams['figure.subplot.top'] = 1\n",
    "\n",
    "dpi = 350\n",
    "import matplotlib.ticker as ticker"
   ]
  },
  {
   "cell_type": "markdown",
   "id": "434a478d-b43d-49ad-86c0-36f651955e2c",
   "metadata": {},
   "source": [
    "# Plot of Temperature and Density Profile with Twin X"
   ]
  },
  {
   "cell_type": "code",
   "execution_count": null,
   "id": "8285d9ea-08c7-4c2f-81a5-2d2ce70b8470",
   "metadata": {},
   "outputs": [],
   "source": [
    "plt.rcParams.update({'axes.linewidth': 1.2, 'xtick.major.width': 1.2,'ytick.major.width': 1.2})\n",
    "fig, ax1 = plt.subplots(1, 1, figsize=(figsize, figsize),dpi=dpi)\n",
    "ax1.set_xlabel(r'$r/R_\\odot$')\n",
    "ax1.set_ylabel(r'$T$ [K]',color='blue')\n",
    "ax1.set_xlim(0,1)\n",
    "ax1.plot(SSM_r,SSM_T,color='blue',lw=1.5)\n",
    "ax1.tick_params(axis='y',labelcolor='blue')\n",
    "ax1.set_yscale('log')\n",
    "ax1.set_ylim(0.6*min(SSM_T),1.2*max(SSM_T))\n",
    "ax1.text(0.55,3.7e6,r'$T$',color='blue')\n",
    "\n",
    "ax2 = ax1.twinx()\n",
    "ax2.set_ylabel(r'$\\rho$ [g cm$^{-3}$]',color='green')\n",
    "ax2.set_ylim(0.6*min(SSM_rho),1.5*max(SSM_rho))\n",
    "ax2.plot(SSM_r,SSM_rho,color='green',lw=1.5)\n",
    "ax2.tick_params(axis='y',labelcolor='green')\n",
    "ax2.set_yscale('log')\n",
    "ax2.text(0.65,0.5,r'$\\rho$',color='green')\n",
    "plt.tight_layout()\n",
    "ax1.set_box_aspect(1)\n",
    "\n",
    "fig.savefig('C:/Users/micza/OneDrive - The Ohio State University/Research/Solar Neutrinos/Paper/Figures/profiles.pdf')\n",
    "#plt.savefig('C:/Users/micza/OneDrive - The Ohio State University/Research/Solar Neutrinos/CCAPP Symposium/profiles.png')\n",
    "plt.show()\n",
    "plt.rcParams.update({'axes.linewidth': 1.5, 'xtick.major.width': 1.5,'ytick.major.width': 1.5})"
   ]
  }
 ],
 "metadata": {
  "kernelspec": {
   "display_name": "Python 3 (ipykernel)",
   "language": "python",
   "name": "python3"
  },
  "language_info": {
   "codemirror_mode": {
    "name": "ipython",
    "version": 3
   },
   "file_extension": ".py",
   "mimetype": "text/x-python",
   "name": "python",
   "nbconvert_exporter": "python",
   "pygments_lexer": "ipython3",
   "version": "3.11.7"
  }
 },
 "nbformat": 4,
 "nbformat_minor": 5
}
